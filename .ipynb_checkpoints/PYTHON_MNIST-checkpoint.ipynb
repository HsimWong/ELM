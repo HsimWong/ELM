{
 "cells": [
  {
   "cell_type": "code",
   "execution_count": 1,
   "metadata": {},
   "outputs": [
    {
     "name": "stderr",
     "output_type": "stream",
     "text": [
      "/usr/local/Cellar/python3/3.6.1/Frameworks/Python.framework/Versions/3.6/lib/python3.6/importlib/_bootstrap.py:205: RuntimeWarning: compiletime version 3.5 of module 'tensorflow.python.framework.fast_tensor_util' does not match runtime version 3.6\n",
      "  return f(*args, **kwds)\n"
     ]
    }
   ],
   "source": [
    "import tensorflow as tf\n",
    "from tensorflow.examples.tutorials.mnist import input_data\n"
   ]
  },
  {
   "cell_type": "code",
   "execution_count": 2,
   "metadata": {},
   "outputs": [
    {
     "name": "stdout",
     "output_type": "stream",
     "text": [
      "Successfully downloaded train-images-idx3-ubyte.gz 9912422 bytes.\n",
      "Extracting /tmp/data/train-images-idx3-ubyte.gz\n",
      "Successfully downloaded train-labels-idx1-ubyte.gz 28881 bytes.\n",
      "Extracting /tmp/data/train-labels-idx1-ubyte.gz\n",
      "Successfully downloaded t10k-images-idx3-ubyte.gz 1648877 bytes.\n",
      "Extracting /tmp/data/t10k-images-idx3-ubyte.gz\n",
      "Successfully downloaded t10k-labels-idx1-ubyte.gz 4542 bytes.\n",
      "Extracting /tmp/data/t10k-labels-idx1-ubyte.gz\n"
     ]
    }
   ],
   "source": [
    "# Basic tf setting\n",
    "tf.set_random_seed(2016)\n",
    "sess = tf.Session()\n",
    "\n",
    "# Get data\n",
    "mnist = input_data.read_data_sets(\"/tmp/data/\", one_hot=True)"
   ]
  },
  {
   "cell_type": "code",
   "execution_count": 8,
   "metadata": {},
   "outputs": [],
   "source": [
    "a = mnist.train.images"
   ]
  },
  {
   "cell_type": "code",
   "execution_count": 11,
   "metadata": {},
   "outputs": [],
   "source": [
    "import numpy as np"
   ]
  },
  {
   "cell_type": "code",
   "execution_count": 12,
   "metadata": {},
   "outputs": [
    {
     "data": {
      "text/plain": [
       "(55000, 784)"
      ]
     },
     "execution_count": 12,
     "metadata": {},
     "output_type": "execute_result"
    }
   ],
   "source": [
    "a.shape"
   ]
  },
  {
   "cell_type": "code",
   "execution_count": 13,
   "metadata": {
    "collapsed": true
   },
   "outputs": [],
   "source": [
    "b = mnist.test.images"
   ]
  },
  {
   "cell_type": "code",
   "execution_count": 14,
   "metadata": {},
   "outputs": [
    {
     "data": {
      "text/plain": [
       "(10000, 784)"
      ]
     },
     "execution_count": 14,
     "metadata": {},
     "output_type": "execute_result"
    }
   ],
   "source": [
    "b.shape"
   ]
  },
  {
   "cell_type": "code",
   "execution_count": 15,
   "metadata": {
    "collapsed": true
   },
   "outputs": [],
   "source": [
    "train_x = mnist.train.images\n",
    "train_y = mnist.train.labels"
   ]
  },
  {
   "cell_type": "code",
   "execution_count": 16,
   "metadata": {
    "collapsed": true
   },
   "outputs": [],
   "source": [
    "test_x = mnist.test.images\n",
    "test_y = mnist.test.labels"
   ]
  },
  {
   "cell_type": "code",
   "execution_count": 26,
   "metadata": {
    "collapsed": true
   },
   "outputs": [],
   "source": [
    "C = 1\n",
    "\n",
    "class ELM(object):\n",
    "    def __init__(self,sess,batch_size,input_len,hidden_len,output_len):\n",
    "        \n",
    "        self.sess = sess \n",
    "        self.batch_size = batch_size\n",
    "        self.input_len = input_len\n",
    "        self.hidden_len = hidden_len\n",
    "        self.output_len = output_len\n",
    "        \n",
    "        #Training variables\n",
    "        self.x = tf.placeholder(tf.float32, [self.batch_size, self.input_len])\n",
    "        self.t = tf.placeholder(tf.float32, [self.batch_size, self.output_len])\n",
    "        \n",
    "        #Testing variables \n",
    "        self.x_test = tf.placeholder(tf.float32,[None,self.input_len])\n",
    "        self.y_test = tf.placeholder(tf.float32,[None,self.output_len])\n",
    "        \n",
    "        #Weight , bias and beta Variable \n",
    "        self.W = tf.Variable(tf.random_normal([self.input_len, self.hidden_len]),trainable=False, dtype=tf.float32)\n",
    "        self.b = tf.Variable(tf.random_normal([self.hidden_len]),trainable=False, dtype=tf.float32)\n",
    "        self.beta = tf.Variable(tf.zeros([self.hidden_len, self.output_len]),trainable=False, dtype=tf.float32)\n",
    "        self.var_list = [self.W, self.b, self.beta]\n",
    "        \n",
    "        #Training hidden outputs\n",
    "        self.h = tf.matmul(self.x, self.W) + self.b\n",
    "        self.h_t = tf.transpose(self.h)\n",
    "        \n",
    "        #Testing hidden outputs\n",
    "        self.h_test = tf.matmul(self.x_test, self.W) + self.b \n",
    "        self.h_test_t = tf.transpose(self.h_test)\n",
    "        \n",
    "        #Finding beta\n",
    "        if self.input_len < self.hidden_len:  # D < L\n",
    "            identity = tf.constant(np.identity(self.hidden_num), dtype=tf.float32)\n",
    "            self.beta_a = tf.matmul(tf.matmul(tf.matrix_inverse(tf.matmul(self.h_t, self.h) + identity/C),self.h_t), self.t)\n",
    "            # beta_a = (H_T*H + I/C)^(-1)*H_T*T\n",
    "        else:\n",
    "            identity = tf.constant(np.identity(self.batch_size), dtype=tf.float32)\n",
    "            self.beta_a = tf.matmul(tf.matmul(self.h_t,tf.matrix_inverse(tf.matmul(self.h, self.h_t)+identity/C)), self.t)\n",
    "            # beta_a = H_T*(H*H_T + I/C)^(-1)*T\n",
    "        \n",
    "        \n",
    "        self.assign_beta = self.beta.assign(self.beta_a)\n",
    "        self.out = tf.matmul(self.h, self.beta)\n",
    "        self.out_test = tf.matmul(self.h_test, self.beta)\n",
    "        \n",
    "        self.cost = tf.reduce_mean(tf.losses.mean_squared_error(labels = self.t,predictions = self.out))\n",
    "\n",
    "        self._init = False\n",
    "        self._feed = False\n",
    "\n",
    "        # for the mnist test\n",
    "        self.correct_prediction = tf.equal(tf.argmax(self.out_test,1), tf.argmax(self.y_test,1))\n",
    "        self.accuracy = tf.reduce_mean(tf.cast(self.correct_prediction, tf.float32))\n",
    "\n",
    "    def feed(self, x, t):\n",
    "        \n",
    "        if not self._init : self.init()\n",
    "        self.sess.run(self.assign_beta, {self.x:x, self.t:t})\n",
    "        self._feed = True\n",
    "\n",
    "    def init(self):\n",
    "        \n",
    "        self.sess.run(tf.initialize_variables(self.var_list))\n",
    "        self._init = True\n",
    "\n",
    "    def test(self, x, t=None):\n",
    "        \n",
    "        if not self._feed : exit(\"Not feed-forward trained\")\n",
    "        \n",
    "        if t is not None :\n",
    "            print(\"Accuracy: {:.9f}\".format(self.sess.run(self.accuracy, {self.x_test:x, self.y_test:t})))\n",
    "        else :\n",
    "            return self.sess.run(self.out_test, {self.x_test:x})\n",
    "        "
   ]
  },
  {
   "cell_type": "code",
   "execution_count": 31,
   "metadata": {},
   "outputs": [
    {
     "name": "stdout",
     "output_type": "stream",
     "text": [
      "batch_size : 5000\n",
      "hidden_num : 125\n",
      "Accuracy: 0.832400024\n"
     ]
    }
   ],
   "source": [
    "batch_size = 5000\n",
    "hidden_num = 125\n",
    "print(\"batch_size : {}\".format(batch_size))\n",
    "print(\"hidden_num : {}\".format(hidden_num))\n",
    "elm = ELM(sess, batch_size, 784, hidden_num, 10)\n",
    "\n",
    "# one-step feed-forward training\n",
    "train_x, train_y = mnist.train.next_batch(batch_size)\n",
    "elm.feed(train_x, train_y)\n",
    "\n",
    "# testing\n",
    "elm.test(mnist.test.images, mnist.test.labels)"
   ]
  },
  {
   "cell_type": "code",
   "execution_count": null,
   "metadata": {
    "collapsed": true
   },
   "outputs": [],
   "source": []
  },
  {
   "cell_type": "code",
   "execution_count": null,
   "metadata": {
    "collapsed": true
   },
   "outputs": [],
   "source": []
  }
 ],
 "metadata": {
  "kernelspec": {
   "display_name": "Python 3",
   "language": "python",
   "name": "python3"
  },
  "language_info": {
   "codemirror_mode": {
    "name": "ipython",
    "version": 3
   },
   "file_extension": ".py",
   "mimetype": "text/x-python",
   "name": "python",
   "nbconvert_exporter": "python",
   "pygments_lexer": "ipython3",
   "version": "3.6.1"
  }
 },
 "nbformat": 4,
 "nbformat_minor": 2
}
